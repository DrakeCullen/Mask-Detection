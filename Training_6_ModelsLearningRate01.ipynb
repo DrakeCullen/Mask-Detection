{
 "cells": [
  {
   "cell_type": "code",
   "execution_count": 1,
   "id": "needed-carol",
   "metadata": {},
   "outputs": [],
   "source": [
    "# import the necessary packages\n",
    "from tensorflow.keras.preprocessing.image import ImageDataGenerator\n",
    "from tensorflow.keras.applications import MobileNetV2, VGG19, ResNet50, InceptionV3, DenseNet201, NASNetLarge, Xception\n",
    "from tensorflow.keras.layers import AveragePooling2D\n",
    "from tensorflow.keras.layers import Dropout\n",
    "from tensorflow.keras.layers import Flatten\n",
    "from tensorflow.keras.layers import Dense\n",
    "from tensorflow.keras.layers import Input\n",
    "from tensorflow.keras.models import Model\n",
    "from tensorflow.keras.optimizers import Adam\n",
    "from tensorflow.keras.applications.mobilenet_v2 import preprocess_input\n",
    "from tensorflow.keras.preprocessing.image import img_to_array\n",
    "from tensorflow.keras.preprocessing.image import load_img\n",
    "from tensorflow.keras.utils import to_categorical\n",
    "from sklearn.preprocessing import LabelBinarizer\n",
    "from sklearn.model_selection import train_test_split\n",
    "from sklearn.metrics import classification_report\n",
    "import matplotlib.pyplot as plt\n",
    "from keras import backend as K\n",
    "import numpy as np\n",
    "import argparse\n",
    "import os\n",
    "import cv2\n"
   ]
  },
  {
   "cell_type": "code",
   "execution_count": 2,
   "id": "social-cigarette",
   "metadata": {},
   "outputs": [],
   "source": [
    "# initialize the initial learning rate, number of epochs to train for,\n",
    "# and batch size\n",
    "INIT_LR = 1e-2\n",
    "EPOCHS = 20\n",
    "BS = 32"
   ]
  },
  {
   "cell_type": "code",
   "execution_count": 3,
   "id": "egyptian-throw",
   "metadata": {},
   "outputs": [],
   "source": [
    "maskPath = '/home/drake/projects/Sp21/ML/ML-6-Models/face-mask-detector/dataset/with_mask/'\n",
    "noMaskPath = '/home/drake/projects/Sp21/ML/ML-6-Models/face-mask-detector/dataset/without_mask/'\n",
    "data = []\n",
    "labels = []\n",
    "maskFiles = os.listdir(maskPath)\n",
    "noMaskFiles = os.listdir(noMaskPath)"
   ]
  },
  {
   "cell_type": "code",
   "execution_count": 4,
   "id": "devoted-height",
   "metadata": {},
   "outputs": [],
   "source": [
    "for img in maskFiles:\n",
    "    image = load_img(maskPath + img, target_size=(224, 224))\n",
    "    image = img_to_array(image)\n",
    "    image = preprocess_input(image)\n",
    "\n",
    "    # update the data and labels lists, respectively\n",
    "    data.append(image)\n",
    "    labels.append('with_mask')"
   ]
  },
  {
   "cell_type": "code",
   "execution_count": 5,
   "id": "outer-synthetic",
   "metadata": {},
   "outputs": [],
   "source": [
    "for img in noMaskFiles:\n",
    "    image = load_img(noMaskPath + img, target_size=(224, 224))\n",
    "    image = img_to_array(image)\n",
    "    image = preprocess_input(image)\n",
    "\n",
    "    # update the data and labels lists, respectively\n",
    "    data.append(image)\n",
    "    labels.append('without_mask')"
   ]
  },
  {
   "cell_type": "code",
   "execution_count": 6,
   "id": "veterinary-shirt",
   "metadata": {},
   "outputs": [],
   "source": [
    "data = np.array(data, dtype=\"float32\")\n",
    "labels = np.array(labels)"
   ]
  },
  {
   "cell_type": "code",
   "execution_count": 7,
   "id": "accessory-rapid",
   "metadata": {},
   "outputs": [],
   "source": [
    "lb = LabelBinarizer()\n",
    "labels = lb.fit_transform(labels)\n",
    "labels = to_categorical(labels)"
   ]
  },
  {
   "cell_type": "code",
   "execution_count": 8,
   "id": "concerned-pierre",
   "metadata": {},
   "outputs": [],
   "source": [
    "(trainX, testX, trainY, testY) = train_test_split(data, labels,\n",
    "    test_size=0.20, stratify=labels, random_state=42)"
   ]
  },
  {
   "cell_type": "code",
   "execution_count": 9,
   "id": "commercial-immigration",
   "metadata": {},
   "outputs": [],
   "source": [
    "aug = ImageDataGenerator(\n",
    "    rotation_range=20,\n",
    "    zoom_range=0.15,\n",
    "    width_shift_range=0.2,\n",
    "    height_shift_range=0.2,\n",
    "    shear_range=0.15,\n",
    "    horizontal_flip=True,\n",
    "    fill_mode=\"nearest\")"
   ]
  },
  {
   "cell_type": "code",
   "execution_count": 10,
   "id": "binary-cleaners",
   "metadata": {},
   "outputs": [
    {
     "name": "stdout",
     "output_type": "stream",
     "text": [
      "WARNING:tensorflow:`input_shape` is undefined or non-square, or `rows` is not in [96, 128, 160, 192, 224]. Weights for input shape (224, 224) will be loaded as the default.\n"
     ]
    }
   ],
   "source": [
    "mobile = MobileNetV2(weights=\"imagenet\", include_top=False,\n",
    "    input_tensor=Input(shape=(224, 224, 3)))\n",
    "vgg = VGG19(weights=\"imagenet\", include_top=False,\n",
    "    input_tensor=Input(shape=(224, 224, 3)))\n",
    "res = ResNet50(weights=\"imagenet\", include_top=False,\n",
    "    input_tensor=Input(shape=(224, 224, 3)))\n",
    "incep = InceptionV3(weights=\"imagenet\", include_top=False,\n",
    "    input_tensor=Input(shape=(224, 224, 3)))\n",
    "dense = DenseNet201(weights=\"imagenet\", include_top=False,\n",
    "    input_tensor=Input(shape=(224, 224, 3)))\n",
    "nas = NASNetLarge(weights=\"imagenet\", include_top=False,\n",
    "    input_tensor=Input(shape=(224, 224, 3))) \n",
    "xcep = Xception(weights=\"imagenet\", include_top=False,\n",
    "    input_tensor=Input(shape=(224, 224, 3)))"
   ]
  },
  {
   "cell_type": "code",
   "execution_count": 11,
   "id": "technical-wheel",
   "metadata": {},
   "outputs": [],
   "source": [
    "modelNames = ['mobile', 'vgg', 'res', 'incep', 'dense', 'nas', 'xcep']"
   ]
  },
  {
   "cell_type": "code",
   "execution_count": 12,
   "id": "traditional-danish",
   "metadata": {},
   "outputs": [],
   "source": [
    "headmobile = mobile.output\n",
    "headmobile = AveragePooling2D(pool_size=(7, 7))(headmobile)\n",
    "headmobile = Flatten(name=\"flatten\")(headmobile)\n",
    "headmobile = Dense(128, activation=\"relu\")(headmobile)\n",
    "headmobile = Dropout(0.5)(headmobile)\n",
    "headmobile = Dense(2, activation=\"softmax\")(headmobile)"
   ]
  },
  {
   "cell_type": "code",
   "execution_count": 13,
   "id": "standing-formula",
   "metadata": {},
   "outputs": [],
   "source": [
    "headvgg = vgg.output\n",
    "headvgg = AveragePooling2D(pool_size=(7, 7))(headvgg)\n",
    "headvgg = Flatten(name=\"flatten\")(headvgg)\n",
    "headvgg = Dense(128, activation=\"relu\")(headvgg)\n",
    "headvgg = Dropout(0.5)(headvgg)\n",
    "headvgg = Dense(2, activation=\"softmax\")(headvgg)"
   ]
  },
  {
   "cell_type": "code",
   "execution_count": 14,
   "id": "emerging-remove",
   "metadata": {},
   "outputs": [],
   "source": [
    "headres = res.output\n",
    "headres = AveragePooling2D(pool_size=(7, 7))(headres)\n",
    "headres = Flatten(name=\"flatten\")(headres)\n",
    "headres = Dense(128, activation=\"relu\")(headres)\n",
    "headres = Dropout(0.5)(headres)\n",
    "headres = Dense(2, activation=\"softmax\")(headres)"
   ]
  },
  {
   "cell_type": "code",
   "execution_count": 15,
   "id": "unlike-chaos",
   "metadata": {},
   "outputs": [],
   "source": [
    "headdense = dense.output\n",
    "headdense = AveragePooling2D(pool_size=(7, 7))(headdense)\n",
    "headdense = Flatten(name=\"flatten\")(headdense)\n",
    "headdense = Dense(128, activation=\"relu\")(headdense)\n",
    "headdense = Dropout(0.5)(headdense)\n",
    "headdense = Dense(2, activation=\"softmax\")(headdense)"
   ]
  },
  {
   "cell_type": "code",
   "execution_count": 16,
   "id": "competitive-acquisition",
   "metadata": {},
   "outputs": [],
   "source": [
    "headnas = nas.output\n",
    "headnas = AveragePooling2D(pool_size=(7, 7))(headnas)\n",
    "headnas = Flatten(name=\"flatten\")(headnas)\n",
    "headnas = Dense(128, activation=\"relu\")(headnas)\n",
    "headnas = Dropout(0.5)(headnas)\n",
    "headnas = Dense(2, activation=\"softmax\")(headnas)"
   ]
  },
  {
   "cell_type": "code",
   "execution_count": 17,
   "id": "martial-string",
   "metadata": {},
   "outputs": [],
   "source": [
    "headxcep = xcep.output\n",
    "headxcep = AveragePooling2D(pool_size=(7, 7))(headxcep)\n",
    "headxcep = Flatten(name=\"flatten\")(headxcep)\n",
    "headxcep = Dense(128, activation=\"relu\")(headxcep)\n",
    "headxcep = Dropout(0.5)(headxcep)\n",
    "headxcep = Dense(2, activation=\"softmax\")(headxcep)"
   ]
  },
  {
   "cell_type": "code",
   "execution_count": 18,
   "id": "operational-business",
   "metadata": {},
   "outputs": [],
   "source": [
    "modelmobile = Model(inputs=mobile.input, outputs=headmobile)\n",
    "modelvgg = Model(inputs=vgg.input, outputs=headvgg)\n",
    "modelres = Model(inputs=res.input, outputs=headres)\n",
    "modeldense = Model(inputs=dense.input, outputs=headdense)\n",
    "modelnas = Model(nas.input, outputs=headnas)\n",
    "modelxcep = Model(inputs=xcep.input, outputs=headxcep)"
   ]
  },
  {
   "cell_type": "code",
   "execution_count": 19,
   "id": "minus-glenn",
   "metadata": {},
   "outputs": [],
   "source": [
    "for layer in mobile.layers:\n",
    "    layer.trainable = False\n",
    "for layer in vgg.layers:\n",
    "    layer.trainable = False\n",
    "for layer in res.layers:\n",
    "    layer.trainable = False\n",
    "for layer in incep.layers:\n",
    "    layer.trainable = False\n",
    "for layer in dense.layers:\n",
    "    layer.trainable = False\n",
    "for layer in nas.layers:\n",
    "    layer.trainable = False\n",
    "for layer in xcep.layers:\n",
    "    layer.trainable = False"
   ]
  },
  {
   "cell_type": "code",
   "execution_count": 20,
   "id": "surrounded-conspiracy",
   "metadata": {},
   "outputs": [],
   "source": [
    "\n",
    "def recall_m(y_true, y_pred):\n",
    "    true_positives = K.sum(K.round(K.clip(y_true * y_pred, 0, 1)))\n",
    "    possible_positives = K.sum(K.round(K.clip(y_true, 0, 1)))\n",
    "    recall = true_positives / (possible_positives + K.epsilon())\n",
    "    return recall\n",
    "\n",
    "def precision_m(y_true, y_pred):\n",
    "    true_positives = K.sum(K.round(K.clip(y_true * y_pred, 0, 1)))\n",
    "    predicted_positives = K.sum(K.round(K.clip(y_pred, 0, 1)))\n",
    "    precision = true_positives / (predicted_positives + K.epsilon())\n",
    "    return precision\n",
    "\n",
    "def f1_m(y_true, y_pred):\n",
    "    precision = precision_m(y_true, y_pred)\n",
    "    recall = recall_m(y_true, y_pred)\n",
    "    return 2*((precision*recall)/(precision+recall+K.epsilon()))\n",
    "\n",
    "opt = Adam(lr=INIT_LR, decay=INIT_LR / EPOCHS)\n",
    "modelmobile.compile(loss=\"binary_crossentropy\", optimizer=opt,\n",
    "    metrics=[\"accuracy\", f1_m, precision_m, recall_m])\n",
    "modelvgg.compile(loss=\"binary_crossentropy\", optimizer=opt,\n",
    "    metrics=[\"accuracy\", f1_m, precision_m, recall_m])\n",
    "modelres.compile(loss=\"binary_crossentropy\", optimizer=opt,\n",
    "    metrics=[\"accuracy\", f1_m, precision_m, recall_m])\n",
    "modeldense.compile(loss=\"binary_crossentropy\", optimizer=opt,\n",
    "    metrics=[\"accuracy\", f1_m, precision_m, recall_m])\n",
    "modelnas.compile(loss=\"binary_crossentropy\", optimizer=opt,\n",
    "    metrics=[\"accuracy\", f1_m, precision_m, recall_m])\n",
    "modelxcep.compile(loss=\"binary_crossentropy\", optimizer=opt,\n",
    "    metrics=[\"accuracy\", f1_m, precision_m, recall_m])"
   ]
  },
  {
   "cell_type": "code",
   "execution_count": 21,
   "id": "attractive-knife",
   "metadata": {
    "scrolled": true
   },
   "outputs": [
    {
     "name": "stdout",
     "output_type": "stream",
     "text": [
      "Epoch 1/20\n",
      "34/34 [==============================] - 18s 465ms/step - loss: 0.4082 - accuracy: 0.9141 - f1_m: 0.9147 - precision_m: 0.9147 - recall_m: 0.9147 - val_loss: 0.0129 - val_accuracy: 0.9964 - val_f1_m: 0.9964 - val_precision_m: 0.9964 - val_recall_m: 0.9964\n",
      "Epoch 2/20\n",
      "34/34 [==============================] - 16s 455ms/step - loss: 0.0342 - accuracy: 0.9949 - f1_m: 0.9949 - precision_m: 0.9949 - recall_m: 0.9949 - val_loss: 0.0353 - val_accuracy: 0.9855 - val_f1_m: 0.9857 - val_precision_m: 0.9857 - val_recall_m: 0.9857\n",
      "Epoch 3/20\n",
      "34/34 [==============================] - 16s 459ms/step - loss: 0.0642 - accuracy: 0.9896 - f1_m: 0.9879 - precision_m: 0.9879 - recall_m: 0.9879 - val_loss: 0.0360 - val_accuracy: 0.9928 - val_f1_m: 0.9929 - val_precision_m: 0.9929 - val_recall_m: 0.9929\n",
      "Epoch 4/20\n",
      "34/34 [==============================] - 16s 474ms/step - loss: 0.0461 - accuracy: 0.9842 - f1_m: 0.9851 - precision_m: 0.9851 - recall_m: 0.9851 - val_loss: 0.0332 - val_accuracy: 0.9928 - val_f1_m: 0.9929 - val_precision_m: 0.9929 - val_recall_m: 0.9929\n",
      "Epoch 5/20\n",
      "34/34 [==============================] - 16s 475ms/step - loss: 0.0333 - accuracy: 0.9957 - f1_m: 0.9958 - precision_m: 0.9958 - recall_m: 0.9958 - val_loss: 0.0189 - val_accuracy: 0.9964 - val_f1_m: 0.9964 - val_precision_m: 0.9964 - val_recall_m: 0.9964\n",
      "Epoch 6/20\n",
      "34/34 [==============================] - 16s 474ms/step - loss: 0.0143 - accuracy: 0.9942 - f1_m: 0.9942 - precision_m: 0.9942 - recall_m: 0.9942 - val_loss: 0.0077 - val_accuracy: 0.9964 - val_f1_m: 0.9964 - val_precision_m: 0.9964 - val_recall_m: 0.9964\n",
      "Epoch 7/20\n",
      "34/34 [==============================] - 16s 472ms/step - loss: 0.0180 - accuracy: 0.9954 - f1_m: 0.9956 - precision_m: 0.9956 - recall_m: 0.9956 - val_loss: 0.0050 - val_accuracy: 0.9964 - val_f1_m: 0.9964 - val_precision_m: 0.9964 - val_recall_m: 0.9964\n",
      "Epoch 8/20\n",
      "34/34 [==============================] - 16s 468ms/step - loss: 0.0365 - accuracy: 0.9883 - f1_m: 0.9885 - precision_m: 0.9885 - recall_m: 0.9885 - val_loss: 0.0219 - val_accuracy: 0.9891 - val_f1_m: 0.9893 - val_precision_m: 0.9893 - val_recall_m: 0.9893\n",
      "Epoch 9/20\n",
      "34/34 [==============================] - 16s 475ms/step - loss: 0.0309 - accuracy: 0.9890 - f1_m: 0.9895 - precision_m: 0.9895 - recall_m: 0.9895 - val_loss: 0.0373 - val_accuracy: 0.9928 - val_f1_m: 0.9929 - val_precision_m: 0.9929 - val_recall_m: 0.9929\n",
      "Epoch 10/20\n",
      "34/34 [==============================] - 16s 472ms/step - loss: 0.0313 - accuracy: 0.9949 - f1_m: 0.9949 - precision_m: 0.9949 - recall_m: 0.9949 - val_loss: 0.0029 - val_accuracy: 1.0000 - val_f1_m: 1.0000 - val_precision_m: 1.0000 - val_recall_m: 1.0000\n",
      "Epoch 11/20\n",
      "34/34 [==============================] - 16s 468ms/step - loss: 0.0263 - accuracy: 0.9934 - f1_m: 0.9937 - precision_m: 0.9937 - recall_m: 0.9937 - val_loss: 0.0144 - val_accuracy: 0.9964 - val_f1_m: 0.9964 - val_precision_m: 0.9964 - val_recall_m: 0.9964\n",
      "Epoch 12/20\n",
      "34/34 [==============================] - 16s 467ms/step - loss: 0.0061 - accuracy: 0.9995 - f1_m: 0.9995 - precision_m: 0.9995 - recall_m: 0.9995 - val_loss: 0.0339 - val_accuracy: 0.9928 - val_f1_m: 0.9929 - val_precision_m: 0.9929 - val_recall_m: 0.9929\n",
      "Epoch 13/20\n",
      "34/34 [==============================] - 16s 476ms/step - loss: 0.0154 - accuracy: 0.9959 - f1_m: 0.9959 - precision_m: 0.9959 - recall_m: 0.9959 - val_loss: 0.0513 - val_accuracy: 0.9891 - val_f1_m: 0.9893 - val_precision_m: 0.9893 - val_recall_m: 0.9893\n",
      "Epoch 14/20\n",
      "34/34 [==============================] - 16s 479ms/step - loss: 0.0045 - accuracy: 0.9977 - f1_m: 0.9977 - precision_m: 0.9977 - recall_m: 0.9977 - val_loss: 0.0618 - val_accuracy: 0.9891 - val_f1_m: 0.9893 - val_precision_m: 0.9893 - val_recall_m: 0.9893\n",
      "Epoch 15/20\n",
      "34/34 [==============================] - 16s 472ms/step - loss: 0.0056 - accuracy: 0.9981 - f1_m: 0.9981 - precision_m: 0.9981 - recall_m: 0.9981 - val_loss: 0.0502 - val_accuracy: 0.9928 - val_f1_m: 0.9929 - val_precision_m: 0.9929 - val_recall_m: 0.9929\n",
      "Epoch 16/20\n",
      "34/34 [==============================] - 17s 503ms/step - loss: 0.0224 - accuracy: 0.9933 - f1_m: 0.9933 - precision_m: 0.9933 - recall_m: 0.9933 - val_loss: 0.0019 - val_accuracy: 1.0000 - val_f1_m: 1.0000 - val_precision_m: 1.0000 - val_recall_m: 1.0000\n",
      "Epoch 17/20\n",
      "34/34 [==============================] - 17s 498ms/step - loss: 0.0172 - accuracy: 0.9952 - f1_m: 0.9953 - precision_m: 0.9953 - recall_m: 0.9953 - val_loss: 0.0069 - val_accuracy: 0.9964 - val_f1_m: 0.9964 - val_precision_m: 0.9964 - val_recall_m: 0.9964\n",
      "Epoch 18/20\n",
      "34/34 [==============================] - 16s 482ms/step - loss: 0.0055 - accuracy: 0.9969 - f1_m: 0.9969 - precision_m: 0.9969 - recall_m: 0.9969 - val_loss: 0.0410 - val_accuracy: 0.9891 - val_f1_m: 0.9893 - val_precision_m: 0.9893 - val_recall_m: 0.9893\n",
      "Epoch 19/20\n",
      "34/34 [==============================] - 16s 473ms/step - loss: 0.0163 - accuracy: 0.9934 - f1_m: 0.9935 - precision_m: 0.9935 - recall_m: 0.9935 - val_loss: 0.0036 - val_accuracy: 1.0000 - val_f1_m: 1.0000 - val_precision_m: 1.0000 - val_recall_m: 1.0000\n",
      "Epoch 20/20\n",
      "34/34 [==============================] - 16s 482ms/step - loss: 0.0105 - accuracy: 0.9971 - f1_m: 0.9971 - precision_m: 0.9971 - recall_m: 0.9971 - val_loss: 0.0145 - val_accuracy: 0.9964 - val_f1_m: 0.9964 - val_precision_m: 0.9964 - val_recall_m: 0.9964\n"
     ]
    }
   ],
   "source": [
    "mobileHistory = modelmobile.fit(\n",
    "    aug.flow(trainX, trainY, batch_size=BS),\n",
    "    steps_per_epoch=len(trainX) // BS,\n",
    "    validation_data=(testX, testY),\n",
    "    validation_steps=len(testX) // BS,\n",
    "    epochs=EPOCHS)"
   ]
  },
  {
   "cell_type": "code",
   "execution_count": 22,
   "id": "brilliant-korean",
   "metadata": {
    "scrolled": true
   },
   "outputs": [
    {
     "name": "stdout",
     "output_type": "stream",
     "text": [
      "Epoch 1/20\n",
      "34/34 [==============================] - 139s 4s/step - loss: 0.6572 - accuracy: 0.7027 - f1_m: 0.7037 - precision_m: 0.7037 - recall_m: 0.7037 - val_loss: 0.0601 - val_accuracy: 0.9964 - val_f1_m: 0.9964 - val_precision_m: 0.9964 - val_recall_m: 0.9964\n",
      "Epoch 2/20\n",
      "34/34 [==============================] - 143s 4s/step - loss: 0.1404 - accuracy: 0.9541 - f1_m: 0.9537 - precision_m: 0.9537 - recall_m: 0.9537 - val_loss: 0.0367 - val_accuracy: 0.9855 - val_f1_m: 0.9857 - val_precision_m: 0.9857 - val_recall_m: 0.9857\n",
      "Epoch 3/20\n",
      "34/34 [==============================] - 143s 4s/step - loss: 0.0937 - accuracy: 0.9677 - f1_m: 0.9690 - precision_m: 0.9690 - recall_m: 0.9690 - val_loss: 0.0216 - val_accuracy: 0.9964 - val_f1_m: 0.9964 - val_precision_m: 0.9964 - val_recall_m: 0.9964\n",
      "Epoch 4/20\n",
      "34/34 [==============================] - 142s 4s/step - loss: 0.0682 - accuracy: 0.9718 - f1_m: 0.9701 - precision_m: 0.9701 - recall_m: 0.9701 - val_loss: 0.0101 - val_accuracy: 0.9964 - val_f1_m: 0.9964 - val_precision_m: 0.9964 - val_recall_m: 0.9964\n",
      "Epoch 5/20\n",
      "34/34 [==============================] - 139s 4s/step - loss: 0.0488 - accuracy: 0.9797 - f1_m: 0.9812 - precision_m: 0.9812 - recall_m: 0.9812 - val_loss: 0.0087 - val_accuracy: 0.9928 - val_f1_m: 0.9929 - val_precision_m: 0.9929 - val_recall_m: 0.9929\n",
      "Epoch 6/20\n",
      "34/34 [==============================] - 140s 4s/step - loss: 0.0484 - accuracy: 0.9827 - f1_m: 0.9828 - precision_m: 0.9828 - recall_m: 0.9828 - val_loss: 0.0085 - val_accuracy: 0.9928 - val_f1_m: 0.9929 - val_precision_m: 0.9929 - val_recall_m: 0.9929\n",
      "Epoch 7/20\n",
      "34/34 [==============================] - 140s 4s/step - loss: 0.0285 - accuracy: 0.9924 - f1_m: 0.9926 - precision_m: 0.9926 - recall_m: 0.9926 - val_loss: 0.0079 - val_accuracy: 0.9964 - val_f1_m: 0.9964 - val_precision_m: 0.9964 - val_recall_m: 0.9964\n",
      "Epoch 8/20\n",
      "34/34 [==============================] - 152s 5s/step - loss: 0.0343 - accuracy: 0.9905 - f1_m: 0.9906 - precision_m: 0.9906 - recall_m: 0.9906 - val_loss: 0.0027 - val_accuracy: 1.0000 - val_f1_m: 1.0000 - val_precision_m: 1.0000 - val_recall_m: 1.0000\n",
      "Epoch 9/20\n",
      "34/34 [==============================] - 147s 4s/step - loss: 0.0337 - accuracy: 0.9894 - f1_m: 0.9897 - precision_m: 0.9897 - recall_m: 0.9897 - val_loss: 0.0052 - val_accuracy: 0.9964 - val_f1_m: 0.9964 - val_precision_m: 0.9964 - val_recall_m: 0.9964\n",
      "Epoch 10/20\n",
      "34/34 [==============================] - 143s 4s/step - loss: 0.0279 - accuracy: 0.9891 - f1_m: 0.9891 - precision_m: 0.9891 - recall_m: 0.9891 - val_loss: 0.0039 - val_accuracy: 1.0000 - val_f1_m: 1.0000 - val_precision_m: 1.0000 - val_recall_m: 1.0000\n",
      "Epoch 11/20\n",
      "34/34 [==============================] - 142s 4s/step - loss: 0.0268 - accuracy: 0.9938 - f1_m: 0.9938 - precision_m: 0.9938 - recall_m: 0.9938 - val_loss: 0.0036 - val_accuracy: 1.0000 - val_f1_m: 1.0000 - val_precision_m: 1.0000 - val_recall_m: 1.0000\n",
      "Epoch 12/20\n",
      "34/34 [==============================] - 142s 4s/step - loss: 0.0474 - accuracy: 0.9915 - f1_m: 0.9916 - precision_m: 0.9916 - recall_m: 0.9916 - val_loss: 0.0060 - val_accuracy: 1.0000 - val_f1_m: 1.0000 - val_precision_m: 1.0000 - val_recall_m: 1.0000\n",
      "Epoch 13/20\n",
      "34/34 [==============================] - 146s 4s/step - loss: 0.0240 - accuracy: 0.9950 - f1_m: 0.9952 - precision_m: 0.9952 - recall_m: 0.9952 - val_loss: 0.0042 - val_accuracy: 1.0000 - val_f1_m: 1.0000 - val_precision_m: 1.0000 - val_recall_m: 1.0000\n",
      "Epoch 14/20\n",
      "34/34 [==============================] - 146s 4s/step - loss: 0.0166 - accuracy: 0.9956 - f1_m: 0.9956 - precision_m: 0.9956 - recall_m: 0.9956 - val_loss: 0.0034 - val_accuracy: 1.0000 - val_f1_m: 1.0000 - val_precision_m: 1.0000 - val_recall_m: 1.0000\n",
      "Epoch 15/20\n",
      "34/34 [==============================] - 141s 4s/step - loss: 0.0309 - accuracy: 0.9959 - f1_m: 0.9959 - precision_m: 0.9959 - recall_m: 0.9959 - val_loss: 0.0098 - val_accuracy: 0.9964 - val_f1_m: 0.9964 - val_precision_m: 0.9964 - val_recall_m: 0.9964\n",
      "Epoch 16/20\n",
      "34/34 [==============================] - 140s 4s/step - loss: 0.0228 - accuracy: 0.9912 - f1_m: 0.9912 - precision_m: 0.9912 - recall_m: 0.9912 - val_loss: 0.0034 - val_accuracy: 1.0000 - val_f1_m: 1.0000 - val_precision_m: 1.0000 - val_recall_m: 1.0000\n",
      "Epoch 17/20\n",
      "34/34 [==============================] - 144s 4s/step - loss: 0.0245 - accuracy: 0.9885 - f1_m: 0.9886 - precision_m: 0.9886 - recall_m: 0.9886 - val_loss: 0.0048 - val_accuracy: 0.9964 - val_f1_m: 0.9964 - val_precision_m: 0.9964 - val_recall_m: 0.9964\n",
      "Epoch 18/20\n",
      "34/34 [==============================] - 145s 4s/step - loss: 0.0192 - accuracy: 0.9952 - f1_m: 0.9954 - precision_m: 0.9954 - recall_m: 0.9954 - val_loss: 0.0182 - val_accuracy: 0.9928 - val_f1_m: 0.9929 - val_precision_m: 0.9929 - val_recall_m: 0.9929\n",
      "Epoch 19/20\n",
      "34/34 [==============================] - 140s 4s/step - loss: 0.0205 - accuracy: 0.9937 - f1_m: 0.9937 - precision_m: 0.9937 - recall_m: 0.9937 - val_loss: 0.0077 - val_accuracy: 0.9964 - val_f1_m: 0.9964 - val_precision_m: 0.9964 - val_recall_m: 0.9964\n",
      "Epoch 20/20\n",
      "34/34 [==============================] - 138s 4s/step - loss: 0.0159 - accuracy: 0.9962 - f1_m: 0.9964 - precision_m: 0.9964 - recall_m: 0.9964 - val_loss: 0.0023 - val_accuracy: 1.0000 - val_f1_m: 1.0000 - val_precision_m: 1.0000 - val_recall_m: 1.0000\n"
     ]
    }
   ],
   "source": [
    "vggHistory = modelvgg.fit(\n",
    "    aug.flow(trainX, trainY, batch_size=BS),\n",
    "    steps_per_epoch=len(trainX) // BS,\n",
    "    validation_data=(testX, testY),\n",
    "    validation_steps=len(testX) // BS,\n",
    "    epochs=EPOCHS)"
   ]
  },
  {
   "cell_type": "code",
   "execution_count": 23,
   "id": "banned-reflection",
   "metadata": {
    "scrolled": true
   },
   "outputs": [
    {
     "name": "stdout",
     "output_type": "stream",
     "text": [
      "Epoch 1/20\n",
      "34/34 [==============================] - 47s 1s/step - loss: 1.4930 - accuracy: 0.5518 - f1_m: 0.5545 - precision_m: 0.5545 - recall_m: 0.5545 - val_loss: 0.6542 - val_accuracy: 0.6667 - val_f1_m: 0.6668 - val_precision_m: 0.6668 - val_recall_m: 0.6668\n",
      "Epoch 2/20\n",
      "34/34 [==============================] - 45s 1s/step - loss: 0.6728 - accuracy: 0.5885 - f1_m: 0.5889 - precision_m: 0.5889 - recall_m: 0.5889 - val_loss: 0.6357 - val_accuracy: 0.6775 - val_f1_m: 0.6775 - val_precision_m: 0.6775 - val_recall_m: 0.6775\n",
      "Epoch 3/20\n",
      "34/34 [==============================] - 45s 1s/step - loss: 0.6800 - accuracy: 0.5666 - f1_m: 0.5667 - precision_m: 0.5667 - recall_m: 0.5667 - val_loss: 0.6270 - val_accuracy: 0.6558 - val_f1_m: 0.6552 - val_precision_m: 0.6552 - val_recall_m: 0.6552\n",
      "Epoch 4/20\n",
      "34/34 [==============================] - 45s 1s/step - loss: 0.6539 - accuracy: 0.5652 - f1_m: 0.5539 - precision_m: 0.5539 - recall_m: 0.5539 - val_loss: 0.5698 - val_accuracy: 0.7138 - val_f1_m: 0.7151 - val_precision_m: 0.7151 - val_recall_m: 0.7151\n",
      "Epoch 5/20\n",
      "34/34 [==============================] - 44s 1s/step - loss: 0.6590 - accuracy: 0.5778 - f1_m: 0.5779 - precision_m: 0.5779 - recall_m: 0.5779 - val_loss: 0.5572 - val_accuracy: 0.6703 - val_f1_m: 0.6695 - val_precision_m: 0.6695 - val_recall_m: 0.6695\n",
      "Epoch 6/20\n",
      "34/34 [==============================] - 45s 1s/step - loss: 0.6096 - accuracy: 0.6002 - f1_m: 0.5984 - precision_m: 0.5984 - recall_m: 0.5984 - val_loss: 0.5514 - val_accuracy: 0.7464 - val_f1_m: 0.7472 - val_precision_m: 0.7472 - val_recall_m: 0.7472\n",
      "Epoch 7/20\n",
      "34/34 [==============================] - 47s 1s/step - loss: 0.6282 - accuracy: 0.5747 - f1_m: 0.5750 - precision_m: 0.5750 - recall_m: 0.5750 - val_loss: 0.5017 - val_accuracy: 0.7210 - val_f1_m: 0.7218 - val_precision_m: 0.7218 - val_recall_m: 0.7218\n",
      "Epoch 8/20\n",
      "34/34 [==============================] - 45s 1s/step - loss: 0.5926 - accuracy: 0.6150 - f1_m: 0.6142 - precision_m: 0.6142 - recall_m: 0.6142 - val_loss: 0.5196 - val_accuracy: 0.7862 - val_f1_m: 0.7874 - val_precision_m: 0.7874 - val_recall_m: 0.7874\n",
      "Epoch 9/20\n",
      "34/34 [==============================] - 45s 1s/step - loss: 0.6095 - accuracy: 0.6128 - f1_m: 0.6158 - precision_m: 0.6158 - recall_m: 0.6158 - val_loss: 0.4464 - val_accuracy: 0.8370 - val_f1_m: 0.8374 - val_precision_m: 0.8374 - val_recall_m: 0.8374\n",
      "Epoch 10/20\n",
      "34/34 [==============================] - 45s 1s/step - loss: 0.6110 - accuracy: 0.5830 - f1_m: 0.5850 - precision_m: 0.5850 - recall_m: 0.5850 - val_loss: 0.4474 - val_accuracy: 0.8007 - val_f1_m: 0.8013 - val_precision_m: 0.8013 - val_recall_m: 0.8013\n",
      "Epoch 11/20\n",
      "34/34 [==============================] - 45s 1s/step - loss: 0.6067 - accuracy: 0.6318 - f1_m: 0.6267 - precision_m: 0.6267 - recall_m: 0.6267 - val_loss: 0.5122 - val_accuracy: 0.8116 - val_f1_m: 0.8120 - val_precision_m: 0.8120 - val_recall_m: 0.8120\n",
      "Epoch 12/20\n",
      "34/34 [==============================] - 47s 1s/step - loss: 0.6009 - accuracy: 0.6042 - f1_m: 0.6051 - precision_m: 0.6051 - recall_m: 0.6051 - val_loss: 0.5417 - val_accuracy: 0.5362 - val_f1_m: 0.5359 - val_precision_m: 0.5359 - val_recall_m: 0.5359\n",
      "Epoch 13/20\n",
      "34/34 [==============================] - 45s 1s/step - loss: 0.6171 - accuracy: 0.5332 - f1_m: 0.5239 - precision_m: 0.5239 - recall_m: 0.5239 - val_loss: 0.4632 - val_accuracy: 0.8043 - val_f1_m: 0.8048 - val_precision_m: 0.8048 - val_recall_m: 0.8048\n",
      "Epoch 14/20\n",
      "34/34 [==============================] - 44s 1s/step - loss: 0.5756 - accuracy: 0.6308 - f1_m: 0.6313 - precision_m: 0.6313 - recall_m: 0.6313 - val_loss: 0.4103 - val_accuracy: 0.8225 - val_f1_m: 0.8232 - val_precision_m: 0.8232 - val_recall_m: 0.8232\n",
      "Epoch 15/20\n",
      "34/34 [==============================] - 44s 1s/step - loss: 0.5619 - accuracy: 0.6385 - f1_m: 0.6345 - precision_m: 0.6345 - recall_m: 0.6345 - val_loss: 0.4540 - val_accuracy: 0.7754 - val_f1_m: 0.7758 - val_precision_m: 0.7758 - val_recall_m: 0.7758\n",
      "Epoch 16/20\n",
      "34/34 [==============================] - 45s 1s/step - loss: 0.5807 - accuracy: 0.6421 - f1_m: 0.6458 - precision_m: 0.6458 - recall_m: 0.6458 - val_loss: 0.4927 - val_accuracy: 0.8370 - val_f1_m: 0.8374 - val_precision_m: 0.8374 - val_recall_m: 0.8374\n",
      "Epoch 17/20\n",
      "34/34 [==============================] - 45s 1s/step - loss: 0.6131 - accuracy: 0.6323 - f1_m: 0.6325 - precision_m: 0.6325 - recall_m: 0.6325 - val_loss: 0.4195 - val_accuracy: 0.8551 - val_f1_m: 0.8548 - val_precision_m: 0.8548 - val_recall_m: 0.8548\n",
      "Epoch 18/20\n",
      "34/34 [==============================] - 45s 1s/step - loss: 0.5456 - accuracy: 0.6473 - f1_m: 0.6470 - precision_m: 0.6470 - recall_m: 0.6470 - val_loss: 0.4184 - val_accuracy: 0.8261 - val_f1_m: 0.8267 - val_precision_m: 0.8267 - val_recall_m: 0.8267\n",
      "Epoch 19/20\n",
      "34/34 [==============================] - 45s 1s/step - loss: 0.5871 - accuracy: 0.6332 - f1_m: 0.6305 - precision_m: 0.6305 - recall_m: 0.6305 - val_loss: 0.3706 - val_accuracy: 0.8442 - val_f1_m: 0.8441 - val_precision_m: 0.8441 - val_recall_m: 0.8441\n",
      "Epoch 20/20\n",
      "34/34 [==============================] - 45s 1s/step - loss: 0.5584 - accuracy: 0.6612 - f1_m: 0.6586 - precision_m: 0.6586 - recall_m: 0.6586 - val_loss: 0.4303 - val_accuracy: 0.8696 - val_f1_m: 0.8691 - val_precision_m: 0.8691 - val_recall_m: 0.8691\n"
     ]
    }
   ],
   "source": [
    "resHistory = modelres.fit(\n",
    "    aug.flow(trainX, trainY, batch_size=BS),\n",
    "    steps_per_epoch=len(trainX) // BS,\n",
    "    validation_data=(testX, testY),\n",
    "    validation_steps=len(testX) // BS,\n",
    "    epochs=EPOCHS)"
   ]
  },
  {
   "cell_type": "code",
   "execution_count": 24,
   "id": "rubber-grounds",
   "metadata": {
    "scrolled": true
   },
   "outputs": [
    {
     "name": "stdout",
     "output_type": "stream",
     "text": [
      "Epoch 1/20\n",
      "34/34 [==============================] - 79s 2s/step - loss: 1.1225 - accuracy: 0.8522 - f1_m: 0.8524 - precision_m: 0.8524 - recall_m: 0.8524 - val_loss: 3.8470e-05 - val_accuracy: 1.0000 - val_f1_m: 1.0000 - val_precision_m: 1.0000 - val_recall_m: 1.0000\n",
      "Epoch 2/20\n",
      "34/34 [==============================] - 70s 2s/step - loss: 0.0194 - accuracy: 0.9975 - f1_m: 0.9976 - precision_m: 0.9976 - recall_m: 0.9976 - val_loss: 9.6349e-05 - val_accuracy: 1.0000 - val_f1_m: 1.0000 - val_precision_m: 1.0000 - val_recall_m: 1.0000\n",
      "Epoch 3/20\n",
      "34/34 [==============================] - 69s 2s/step - loss: 0.0177 - accuracy: 0.9936 - f1_m: 0.9938 - precision_m: 0.9938 - recall_m: 0.9938 - val_loss: 3.9013e-04 - val_accuracy: 1.0000 - val_f1_m: 1.0000 - val_precision_m: 1.0000 - val_recall_m: 1.0000\n",
      "Epoch 4/20\n",
      "34/34 [==============================] - 71s 2s/step - loss: 0.0102 - accuracy: 0.9945 - f1_m: 0.9945 - precision_m: 0.9945 - recall_m: 0.9945 - val_loss: 0.0012 - val_accuracy: 1.0000 - val_f1_m: 1.0000 - val_precision_m: 1.0000 - val_recall_m: 1.0000\n",
      "Epoch 5/20\n",
      "34/34 [==============================] - 70s 2s/step - loss: 0.0038 - accuracy: 0.9983 - f1_m: 0.9983 - precision_m: 0.9983 - recall_m: 0.9983 - val_loss: 0.0011 - val_accuracy: 1.0000 - val_f1_m: 1.0000 - val_precision_m: 1.0000 - val_recall_m: 1.0000\n",
      "Epoch 6/20\n",
      "34/34 [==============================] - 67s 2s/step - loss: 0.0105 - accuracy: 0.9968 - f1_m: 0.9968 - precision_m: 0.9968 - recall_m: 0.9968 - val_loss: 6.1083e-04 - val_accuracy: 1.0000 - val_f1_m: 1.0000 - val_precision_m: 1.0000 - val_recall_m: 1.0000\n",
      "Epoch 7/20\n",
      "34/34 [==============================] - 70s 2s/step - loss: 0.0065 - accuracy: 0.9964 - f1_m: 0.9964 - precision_m: 0.9964 - recall_m: 0.9964 - val_loss: 5.1864e-05 - val_accuracy: 1.0000 - val_f1_m: 1.0000 - val_precision_m: 1.0000 - val_recall_m: 1.0000\n",
      "Epoch 8/20\n",
      "34/34 [==============================] - 70s 2s/step - loss: 0.0016 - accuracy: 1.0000 - f1_m: 1.0000 - precision_m: 1.0000 - recall_m: 1.0000 - val_loss: 2.8994e-05 - val_accuracy: 1.0000 - val_f1_m: 1.0000 - val_precision_m: 1.0000 - val_recall_m: 1.0000\n",
      "Epoch 9/20\n",
      "34/34 [==============================] - 72s 2s/step - loss: 0.0212 - accuracy: 0.9941 - f1_m: 0.9942 - precision_m: 0.9942 - recall_m: 0.9942 - val_loss: 0.0045 - val_accuracy: 0.9964 - val_f1_m: 0.9964 - val_precision_m: 0.9964 - val_recall_m: 0.9964\n",
      "Epoch 10/20\n",
      "34/34 [==============================] - 72s 2s/step - loss: 0.0061 - accuracy: 0.9975 - f1_m: 0.9975 - precision_m: 0.9975 - recall_m: 0.9975 - val_loss: 0.0013 - val_accuracy: 1.0000 - val_f1_m: 1.0000 - val_precision_m: 1.0000 - val_recall_m: 1.0000\n",
      "Epoch 11/20\n",
      "34/34 [==============================] - 73s 2s/step - loss: 0.0063 - accuracy: 0.9986 - f1_m: 0.9986 - precision_m: 0.9986 - recall_m: 0.9986 - val_loss: 0.0047 - val_accuracy: 0.9964 - val_f1_m: 0.9964 - val_precision_m: 0.9964 - val_recall_m: 0.9964\n",
      "Epoch 12/20\n",
      "34/34 [==============================] - 69s 2s/step - loss: 0.0037 - accuracy: 0.9988 - f1_m: 0.9988 - precision_m: 0.9988 - recall_m: 0.9988 - val_loss: 0.0123 - val_accuracy: 0.9964 - val_f1_m: 0.9964 - val_precision_m: 0.9964 - val_recall_m: 0.9964\n",
      "Epoch 13/20\n",
      "34/34 [==============================] - 72s 2s/step - loss: 0.0140 - accuracy: 0.9957 - f1_m: 0.9957 - precision_m: 0.9957 - recall_m: 0.9957 - val_loss: 4.3005e-04 - val_accuracy: 1.0000 - val_f1_m: 1.0000 - val_precision_m: 1.0000 - val_recall_m: 1.0000\n",
      "Epoch 14/20\n",
      "34/34 [==============================] - 71s 2s/step - loss: 0.0175 - accuracy: 0.9964 - f1_m: 0.9964 - precision_m: 0.9964 - recall_m: 0.9964 - val_loss: 0.0012 - val_accuracy: 1.0000 - val_f1_m: 1.0000 - val_precision_m: 1.0000 - val_recall_m: 1.0000\n",
      "Epoch 15/20\n",
      "34/34 [==============================] - 69s 2s/step - loss: 0.0047 - accuracy: 0.9986 - f1_m: 0.9987 - precision_m: 0.9987 - recall_m: 0.9987 - val_loss: 3.5007e-04 - val_accuracy: 1.0000 - val_f1_m: 1.0000 - val_precision_m: 1.0000 - val_recall_m: 1.0000\n",
      "Epoch 16/20\n",
      "34/34 [==============================] - 71s 2s/step - loss: 0.0035 - accuracy: 0.9993 - f1_m: 0.9993 - precision_m: 0.9993 - recall_m: 0.9993 - val_loss: 2.5510e-05 - val_accuracy: 1.0000 - val_f1_m: 1.0000 - val_precision_m: 1.0000 - val_recall_m: 1.0000\n",
      "Epoch 17/20\n",
      "34/34 [==============================] - 72s 2s/step - loss: 0.0087 - accuracy: 0.9956 - f1_m: 0.9957 - precision_m: 0.9957 - recall_m: 0.9957 - val_loss: 0.0055 - val_accuracy: 0.9964 - val_f1_m: 0.9964 - val_precision_m: 0.9964 - val_recall_m: 0.9964\n",
      "Epoch 18/20\n",
      "34/34 [==============================] - 73s 2s/step - loss: 0.0033 - accuracy: 0.9992 - f1_m: 0.9992 - precision_m: 0.9992 - recall_m: 0.9992 - val_loss: 9.4681e-04 - val_accuracy: 1.0000 - val_f1_m: 1.0000 - val_precision_m: 1.0000 - val_recall_m: 1.0000\n",
      "Epoch 19/20\n",
      "34/34 [==============================] - 71s 2s/step - loss: 0.0027 - accuracy: 1.0000 - f1_m: 1.0000 - precision_m: 1.0000 - recall_m: 1.0000 - val_loss: 0.0073 - val_accuracy: 0.9964 - val_f1_m: 0.9964 - val_precision_m: 0.9964 - val_recall_m: 0.9964\n",
      "Epoch 20/20\n",
      "34/34 [==============================] - 73s 2s/step - loss: 9.2925e-04 - accuracy: 0.9999 - f1_m: 0.9996 - precision_m: 0.9996 - recall_m: 0.9996 - val_loss: 0.0152 - val_accuracy: 0.9928 - val_f1_m: 0.9929 - val_precision_m: 0.9929 - val_recall_m: 0.9929\n"
     ]
    }
   ],
   "source": [
    "denseHistory = modeldense.fit(\n",
    "    aug.flow(trainX, trainY, batch_size=BS),\n",
    "    steps_per_epoch=len(trainX) // BS,\n",
    "    validation_data=(testX, testY),\n",
    "    validation_steps=len(testX) // BS,\n",
    "    epochs=EPOCHS)"
   ]
  },
  {
   "cell_type": "code",
   "execution_count": 25,
   "id": "portuguese-domestic",
   "metadata": {
    "scrolled": true
   },
   "outputs": [
    {
     "name": "stdout",
     "output_type": "stream",
     "text": [
      "Epoch 1/20\n",
      "34/34 [==============================] - 163s 4s/step - loss: 1.5144 - accuracy: 0.8030 - f1_m: 0.8040 - precision_m: 0.8040 - recall_m: 0.8040 - val_loss: 0.0031 - val_accuracy: 1.0000 - val_f1_m: 1.0000 - val_precision_m: 1.0000 - val_recall_m: 1.0000\n",
      "Epoch 2/20\n",
      "34/34 [==============================] - 146s 4s/step - loss: 0.1625 - accuracy: 0.9945 - f1_m: 0.9946 - precision_m: 0.9946 - recall_m: 0.9946 - val_loss: 0.1278 - val_accuracy: 0.9964 - val_f1_m: 0.9964 - val_precision_m: 0.9964 - val_recall_m: 0.9964\n",
      "Epoch 3/20\n",
      "34/34 [==============================] - 143s 4s/step - loss: 0.1543 - accuracy: 0.9933 - f1_m: 0.9934 - precision_m: 0.9934 - recall_m: 0.9934 - val_loss: 0.0124 - val_accuracy: 0.9964 - val_f1_m: 0.9964 - val_precision_m: 0.9964 - val_recall_m: 0.9964\n",
      "Epoch 4/20\n",
      "34/34 [==============================] - 146s 4s/step - loss: 0.0252 - accuracy: 0.9947 - f1_m: 0.9950 - precision_m: 0.9950 - recall_m: 0.9950 - val_loss: 0.0064 - val_accuracy: 0.9964 - val_f1_m: 0.9964 - val_precision_m: 0.9964 - val_recall_m: 0.9964\n",
      "Epoch 5/20\n",
      "34/34 [==============================] - 144s 4s/step - loss: 0.1737 - accuracy: 0.9935 - f1_m: 0.9935 - precision_m: 0.9935 - recall_m: 0.9935 - val_loss: 0.0445 - val_accuracy: 0.9928 - val_f1_m: 0.9929 - val_precision_m: 0.9929 - val_recall_m: 0.9929\n",
      "Epoch 6/20\n",
      "34/34 [==============================] - 144s 4s/step - loss: 0.0133 - accuracy: 0.9996 - f1_m: 0.9996 - precision_m: 0.9996 - recall_m: 0.9996 - val_loss: 0.0215 - val_accuracy: 0.9964 - val_f1_m: 0.9964 - val_precision_m: 0.9964 - val_recall_m: 0.9964\n",
      "Epoch 7/20\n",
      "34/34 [==============================] - 140s 4s/step - loss: 0.0248 - accuracy: 0.9973 - f1_m: 0.9974 - precision_m: 0.9974 - recall_m: 0.9974 - val_loss: 0.0124 - val_accuracy: 0.9964 - val_f1_m: 0.9964 - val_precision_m: 0.9964 - val_recall_m: 0.9964\n",
      "Epoch 8/20\n",
      "34/34 [==============================] - 142s 4s/step - loss: 0.0063 - accuracy: 0.9995 - f1_m: 0.9996 - precision_m: 0.9996 - recall_m: 0.9996 - val_loss: 8.7772e-05 - val_accuracy: 1.0000 - val_f1_m: 1.0000 - val_precision_m: 1.0000 - val_recall_m: 1.0000\n",
      "Epoch 9/20\n",
      "34/34 [==============================] - 145s 4s/step - loss: 0.0660 - accuracy: 0.9940 - f1_m: 0.9936 - precision_m: 0.9936 - recall_m: 0.9936 - val_loss: 0.0035 - val_accuracy: 1.0000 - val_f1_m: 1.0000 - val_precision_m: 1.0000 - val_recall_m: 1.0000\n",
      "Epoch 10/20\n",
      "34/34 [==============================] - 138s 4s/step - loss: 0.0219 - accuracy: 0.9970 - f1_m: 0.9970 - precision_m: 0.9970 - recall_m: 0.9970 - val_loss: 0.0229 - val_accuracy: 0.9964 - val_f1_m: 0.9964 - val_precision_m: 0.9964 - val_recall_m: 0.9964\n",
      "Epoch 11/20\n",
      "34/34 [==============================] - 140s 4s/step - loss: 0.0043 - accuracy: 0.9986 - f1_m: 0.9986 - precision_m: 0.9986 - recall_m: 0.9986 - val_loss: 0.0705 - val_accuracy: 0.9928 - val_f1_m: 0.9929 - val_precision_m: 0.9929 - val_recall_m: 0.9929\n",
      "Epoch 12/20\n",
      "34/34 [==============================] - 144s 4s/step - loss: 0.0030 - accuracy: 0.9987 - f1_m: 0.9987 - precision_m: 0.9987 - recall_m: 0.9987 - val_loss: 0.0403 - val_accuracy: 0.9964 - val_f1_m: 0.9964 - val_precision_m: 0.9964 - val_recall_m: 0.9964\n",
      "Epoch 13/20\n",
      "34/34 [==============================] - 141s 4s/step - loss: 0.0058 - accuracy: 0.9994 - f1_m: 0.9994 - precision_m: 0.9994 - recall_m: 0.9994 - val_loss: 9.8224e-04 - val_accuracy: 1.0000 - val_f1_m: 1.0000 - val_precision_m: 1.0000 - val_recall_m: 1.0000\n",
      "Epoch 14/20\n",
      "34/34 [==============================] - 146s 4s/step - loss: 0.0144 - accuracy: 0.9979 - f1_m: 0.9979 - precision_m: 0.9979 - recall_m: 0.9979 - val_loss: 0.0032 - val_accuracy: 1.0000 - val_f1_m: 1.0000 - val_precision_m: 1.0000 - val_recall_m: 1.0000\n",
      "Epoch 15/20\n",
      "34/34 [==============================] - 138s 4s/step - loss: 0.0107 - accuracy: 0.9979 - f1_m: 0.9979 - precision_m: 0.9979 - recall_m: 0.9979 - val_loss: 0.0071 - val_accuracy: 0.9964 - val_f1_m: 0.9964 - val_precision_m: 0.9964 - val_recall_m: 0.9964\n",
      "Epoch 16/20\n",
      "34/34 [==============================] - 141s 4s/step - loss: 0.0455 - accuracy: 0.9990 - f1_m: 0.9990 - precision_m: 0.9990 - recall_m: 0.9990 - val_loss: 0.0209 - val_accuracy: 0.9928 - val_f1_m: 0.9929 - val_precision_m: 0.9929 - val_recall_m: 0.9929\n",
      "Epoch 17/20\n",
      "34/34 [==============================] - 139s 4s/step - loss: 0.0316 - accuracy: 0.9964 - f1_m: 0.9965 - precision_m: 0.9965 - recall_m: 0.9965 - val_loss: 0.0214 - val_accuracy: 0.9964 - val_f1_m: 0.9964 - val_precision_m: 0.9964 - val_recall_m: 0.9964\n",
      "Epoch 18/20\n",
      "34/34 [==============================] - 139s 4s/step - loss: 0.0014 - accuracy: 0.9992 - f1_m: 0.9993 - precision_m: 0.9993 - recall_m: 0.9993 - val_loss: 0.0245 - val_accuracy: 0.9964 - val_f1_m: 0.9964 - val_precision_m: 0.9964 - val_recall_m: 0.9964\n",
      "Epoch 19/20\n",
      "34/34 [==============================] - 138s 4s/step - loss: 0.0158 - accuracy: 0.9957 - f1_m: 0.9958 - precision_m: 0.9958 - recall_m: 0.9958 - val_loss: 0.0255 - val_accuracy: 0.9928 - val_f1_m: 0.9929 - val_precision_m: 0.9929 - val_recall_m: 0.9929\n",
      "Epoch 20/20\n",
      "34/34 [==============================] - 137s 4s/step - loss: 0.0032 - accuracy: 1.0000 - f1_m: 1.0000 - precision_m: 1.0000 - recall_m: 1.0000 - val_loss: 0.0144 - val_accuracy: 0.9964 - val_f1_m: 0.9964 - val_precision_m: 0.9964 - val_recall_m: 0.9964\n"
     ]
    }
   ],
   "source": [
    "nasHistory = modelnas.fit(\n",
    "    aug.flow(trainX, trainY, batch_size=BS),\n",
    "    steps_per_epoch=len(trainX) // BS,\n",
    "    validation_data=(testX, testY),\n",
    "    validation_steps=len(testX) // BS,\n",
    "    epochs=EPOCHS)"
   ]
  },
  {
   "cell_type": "code",
   "execution_count": 26,
   "id": "sixth-infrared",
   "metadata": {
    "scrolled": true
   },
   "outputs": [
    {
     "name": "stdout",
     "output_type": "stream",
     "text": [
      "Epoch 1/20\n",
      "34/34 [==============================] - 53s 1s/step - loss: 0.8897 - accuracy: 0.8486 - f1_m: 0.8508 - precision_m: 0.8508 - recall_m: 0.8508 - val_loss: 0.0145 - val_accuracy: 0.9964 - val_f1_m: 0.9964 - val_precision_m: 0.9964 - val_recall_m: 0.9964\n",
      "Epoch 2/20\n",
      "34/34 [==============================] - 50s 1s/step - loss: 0.2247 - accuracy: 0.9770 - f1_m: 0.9771 - precision_m: 0.9771 - recall_m: 0.9771 - val_loss: 0.0867 - val_accuracy: 0.9855 - val_f1_m: 0.9857 - val_precision_m: 0.9857 - val_recall_m: 0.9857\n",
      "Epoch 3/20\n",
      "34/34 [==============================] - 50s 1s/step - loss: 0.0123 - accuracy: 0.9969 - f1_m: 0.9969 - precision_m: 0.9969 - recall_m: 0.9969 - val_loss: 0.0218 - val_accuracy: 0.9928 - val_f1_m: 0.9929 - val_precision_m: 0.9929 - val_recall_m: 0.9929\n",
      "Epoch 4/20\n",
      "34/34 [==============================] - 50s 1s/step - loss: 0.0612 - accuracy: 0.9919 - f1_m: 0.9919 - precision_m: 0.9919 - recall_m: 0.9919 - val_loss: 0.0175 - val_accuracy: 0.9964 - val_f1_m: 0.9964 - val_precision_m: 0.9964 - val_recall_m: 0.9964\n",
      "Epoch 5/20\n",
      "34/34 [==============================] - 50s 1s/step - loss: 0.0129 - accuracy: 0.9961 - f1_m: 0.9961 - precision_m: 0.9961 - recall_m: 0.9961 - val_loss: 0.0255 - val_accuracy: 0.9964 - val_f1_m: 0.9964 - val_precision_m: 0.9964 - val_recall_m: 0.9964\n",
      "Epoch 6/20\n",
      "34/34 [==============================] - 50s 1s/step - loss: 0.0073 - accuracy: 0.9978 - f1_m: 0.9978 - precision_m: 0.9978 - recall_m: 0.9978 - val_loss: 0.0306 - val_accuracy: 0.9928 - val_f1_m: 0.9929 - val_precision_m: 0.9929 - val_recall_m: 0.9929\n",
      "Epoch 7/20\n",
      "34/34 [==============================] - 50s 1s/step - loss: 0.0055 - accuracy: 0.9978 - f1_m: 0.9978 - precision_m: 0.9978 - recall_m: 0.9978 - val_loss: 0.0312 - val_accuracy: 0.9964 - val_f1_m: 0.9964 - val_precision_m: 0.9964 - val_recall_m: 0.9964\n",
      "Epoch 8/20\n",
      "34/34 [==============================] - 51s 1s/step - loss: 0.0178 - accuracy: 0.9953 - f1_m: 0.9953 - precision_m: 0.9953 - recall_m: 0.9953 - val_loss: 0.0493 - val_accuracy: 0.9928 - val_f1_m: 0.9929 - val_precision_m: 0.9929 - val_recall_m: 0.9929\n",
      "Epoch 9/20\n",
      "34/34 [==============================] - 50s 1s/step - loss: 0.0190 - accuracy: 0.9959 - f1_m: 0.9959 - precision_m: 0.9959 - recall_m: 0.9959 - val_loss: 0.0486 - val_accuracy: 0.9928 - val_f1_m: 0.9929 - val_precision_m: 0.9929 - val_recall_m: 0.9929\n",
      "Epoch 10/20\n",
      "34/34 [==============================] - 50s 1s/step - loss: 0.0183 - accuracy: 0.9958 - f1_m: 0.9959 - precision_m: 0.9959 - recall_m: 0.9959 - val_loss: 0.0438 - val_accuracy: 0.9928 - val_f1_m: 0.9929 - val_precision_m: 0.9929 - val_recall_m: 0.9929\n",
      "Epoch 11/20\n",
      "34/34 [==============================] - 50s 1s/step - loss: 0.0045 - accuracy: 0.9982 - f1_m: 0.9982 - precision_m: 0.9982 - recall_m: 0.9982 - val_loss: 0.0264 - val_accuracy: 0.9964 - val_f1_m: 0.9964 - val_precision_m: 0.9964 - val_recall_m: 0.9964\n",
      "Epoch 12/20\n",
      "34/34 [==============================] - 49s 1s/step - loss: 0.0260 - accuracy: 0.9939 - f1_m: 0.9940 - precision_m: 0.9940 - recall_m: 0.9940 - val_loss: 0.0260 - val_accuracy: 0.9964 - val_f1_m: 0.9964 - val_precision_m: 0.9964 - val_recall_m: 0.9964\n",
      "Epoch 13/20\n",
      "34/34 [==============================] - 52s 2s/step - loss: 0.0030 - accuracy: 0.9993 - f1_m: 0.9993 - precision_m: 0.9993 - recall_m: 0.9993 - val_loss: 0.0205 - val_accuracy: 0.9964 - val_f1_m: 0.9964 - val_precision_m: 0.9964 - val_recall_m: 0.9964\n",
      "Epoch 14/20\n",
      "34/34 [==============================] - 51s 1s/step - loss: 0.0040 - accuracy: 0.9971 - f1_m: 0.9972 - precision_m: 0.9972 - recall_m: 0.9972 - val_loss: 0.0321 - val_accuracy: 0.9928 - val_f1_m: 0.9929 - val_precision_m: 0.9929 - val_recall_m: 0.9929\n",
      "Epoch 15/20\n",
      "34/34 [==============================] - 52s 2s/step - loss: 0.0075 - accuracy: 0.9970 - f1_m: 0.9971 - precision_m: 0.9971 - recall_m: 0.9971 - val_loss: 0.0297 - val_accuracy: 0.9928 - val_f1_m: 0.9929 - val_precision_m: 0.9929 - val_recall_m: 0.9929\n",
      "Epoch 16/20\n",
      "34/34 [==============================] - 54s 2s/step - loss: 0.0070 - accuracy: 0.9995 - f1_m: 0.9995 - precision_m: 0.9995 - recall_m: 0.9995 - val_loss: 0.0374 - val_accuracy: 0.9928 - val_f1_m: 0.9929 - val_precision_m: 0.9929 - val_recall_m: 0.9929\n",
      "Epoch 17/20\n",
      "34/34 [==============================] - 55s 2s/step - loss: 0.0030 - accuracy: 0.9999 - f1_m: 0.9999 - precision_m: 0.9999 - recall_m: 0.9999 - val_loss: 0.0364 - val_accuracy: 0.9928 - val_f1_m: 0.9929 - val_precision_m: 0.9929 - val_recall_m: 0.9929\n",
      "Epoch 18/20\n",
      "34/34 [==============================] - 53s 2s/step - loss: 0.0090 - accuracy: 0.9990 - f1_m: 0.9990 - precision_m: 0.9990 - recall_m: 0.9990 - val_loss: 0.0303 - val_accuracy: 0.9964 - val_f1_m: 0.9964 - val_precision_m: 0.9964 - val_recall_m: 0.9964\n",
      "Epoch 19/20\n",
      "34/34 [==============================] - 51s 2s/step - loss: 0.0109 - accuracy: 0.9963 - f1_m: 0.9960 - precision_m: 0.9960 - recall_m: 0.9960 - val_loss: 0.0306 - val_accuracy: 0.9964 - val_f1_m: 0.9964 - val_precision_m: 0.9964 - val_recall_m: 0.9964\n",
      "Epoch 20/20\n",
      "34/34 [==============================] - 51s 1s/step - loss: 0.0327 - accuracy: 0.9957 - f1_m: 0.9958 - precision_m: 0.9958 - recall_m: 0.9958 - val_loss: 0.0213 - val_accuracy: 0.9964 - val_f1_m: 0.9964 - val_precision_m: 0.9964 - val_recall_m: 0.9964\n"
     ]
    }
   ],
   "source": [
    "xcepHistory = modelxcep.fit(\n",
    "    aug.flow(trainX, trainY, batch_size=BS),\n",
    "    steps_per_epoch=len(trainX) // BS,\n",
    "    validation_data=(testX, testY),\n",
    "    validation_steps=len(testX) // BS,\n",
    "    epochs=EPOCHS)"
   ]
  },
  {
   "cell_type": "code",
   "execution_count": 27,
   "id": "light-startup",
   "metadata": {},
   "outputs": [],
   "source": [
    "predmobile = modelmobile.predict(testX, batch_size=BS)\n",
    "predvgg = modelvgg.predict(testX, batch_size=BS)\n",
    "predres = modelres.predict(testX, batch_size=BS)\n",
    "preddense = modeldense.predict(testX, batch_size=BS)\n",
    "prednas = modelnas.predict(testX, batch_size=BS)\n",
    "predxcep = modelxcep.predict(testX, batch_size=BS)"
   ]
  },
  {
   "cell_type": "code",
   "execution_count": 28,
   "id": "burning-surrey",
   "metadata": {},
   "outputs": [],
   "source": [
    "predmobile = np.argmax(predmobile, axis=1)\n",
    "predvgg = np.argmax(predvgg, axis=1)\n",
    "predres = np.argmax(predres, axis=1)\n",
    "preddense = np.argmax(preddense, axis=1)\n",
    "prednas = np.argmax(prednas, axis=1)\n",
    "predxcep = np.argmax(predxcep, axis=1)"
   ]
  },
  {
   "cell_type": "code",
   "execution_count": 29,
   "id": "lovely-scenario",
   "metadata": {},
   "outputs": [
    {
     "name": "stdout",
     "output_type": "stream",
     "text": [
      "Mobile               precision    recall  f1-score   support\n",
      "\n",
      "   with_mask       0.99      1.00      1.00       138\n",
      "without_mask       1.00      0.99      1.00       138\n",
      "\n",
      "    accuracy                           1.00       276\n",
      "   macro avg       1.00      1.00      1.00       276\n",
      "weighted avg       1.00      1.00      1.00       276\n",
      "\n",
      "VGG               precision    recall  f1-score   support\n",
      "\n",
      "   with_mask       1.00      1.00      1.00       138\n",
      "without_mask       1.00      1.00      1.00       138\n",
      "\n",
      "    accuracy                           1.00       276\n",
      "   macro avg       1.00      1.00      1.00       276\n",
      "weighted avg       1.00      1.00      1.00       276\n",
      "\n",
      "Res               precision    recall  f1-score   support\n",
      "\n",
      "   with_mask       0.89      0.84      0.87       138\n",
      "without_mask       0.85      0.90      0.87       138\n",
      "\n",
      "    accuracy                           0.87       276\n",
      "   macro avg       0.87      0.87      0.87       276\n",
      "weighted avg       0.87      0.87      0.87       276\n",
      "\n",
      "Dense               precision    recall  f1-score   support\n",
      "\n",
      "   with_mask       0.99      1.00      0.99       138\n",
      "without_mask       1.00      0.99      0.99       138\n",
      "\n",
      "    accuracy                           0.99       276\n",
      "   macro avg       0.99      0.99      0.99       276\n",
      "weighted avg       0.99      0.99      0.99       276\n",
      "\n",
      "Nas               precision    recall  f1-score   support\n",
      "\n",
      "   with_mask       0.99      1.00      1.00       138\n",
      "without_mask       1.00      0.99      1.00       138\n",
      "\n",
      "    accuracy                           1.00       276\n",
      "   macro avg       1.00      1.00      1.00       276\n",
      "weighted avg       1.00      1.00      1.00       276\n",
      "\n",
      "Xcep               precision    recall  f1-score   support\n",
      "\n",
      "   with_mask       0.99      1.00      1.00       138\n",
      "without_mask       1.00      0.99      1.00       138\n",
      "\n",
      "    accuracy                           1.00       276\n",
      "   macro avg       1.00      1.00      1.00       276\n",
      "weighted avg       1.00      1.00      1.00       276\n",
      "\n"
     ]
    }
   ],
   "source": [
    "print(\"Mobile\", classification_report(testY.argmax(axis=1), predmobile,target_names=lb.classes_))\n",
    "print(\"VGG\", classification_report(testY.argmax(axis=1), predvgg,target_names=lb.classes_))\n",
    "print(\"Res\", classification_report(testY.argmax(axis=1), predres,target_names=lb.classes_))\n",
    "print(\"Dense\", classification_report(testY.argmax(axis=1), preddense,target_names=lb.classes_))\n",
    "print(\"Nas\", classification_report(testY.argmax(axis=1), prednas,target_names=lb.classes_))\n",
    "print(\"Xcep\",classification_report(testY.argmax(axis=1), predxcep,target_names=lb.classes_))"
   ]
  },
  {
   "cell_type": "code",
   "execution_count": 30,
   "id": "timely-briefs",
   "metadata": {},
   "outputs": [],
   "source": [
    "modelNames = ['MobileNetV2', 'VGG19', 'ResNet50', 'DenseNet201', 'NASNetLarge', 'Xception']"
   ]
  },
  {
   "cell_type": "code",
   "execution_count": 34,
   "id": "liked-boutique",
   "metadata": {},
   "outputs": [],
   "source": [
    "modelvgg.save('VGG192', save_format=\"h5\")\n",
    "modelres.save('ResNet502', save_format=\"h5\")\n",
    "modeldense.save('DenseNet2012', save_format=\"h5\")\n",
    "modelnas.save('NASNetLarge2', save_format=\"h5\")\n",
    "modelxcep.save('Xception2', save_format=\"h5\")"
   ]
  },
  {
   "cell_type": "code",
   "execution_count": 35,
   "id": "musical-riding",
   "metadata": {},
   "outputs": [],
   "source": [
    "modelHistories = []\n",
    "modelHistories.append(mobileHistory)\n",
    "modelHistories.append(vggHistory)\n",
    "modelHistories.append(resHistory)\n",
    "modelHistories.append(denseHistory)\n",
    "modelHistories.append(nasHistory)\n",
    "modelHistories.append(xcepHistory)"
   ]
  },
  {
   "cell_type": "code",
   "execution_count": 36,
   "id": "statutory-obligation",
   "metadata": {},
   "outputs": [
    {
     "ename": "IndexError",
     "evalue": "index 4 is out of bounds for axis 0 with size 4",
     "output_type": "error",
     "traceback": [
      "\u001b[0;31m---------------------------------------------------------------------------\u001b[0m",
      "\u001b[0;31mIndexError\u001b[0m                                Traceback (most recent call last)",
      "\u001b[0;32m<ipython-input-36-5608373cbc84>\u001b[0m in \u001b[0;36m<module>\u001b[0;34m\u001b[0m\n\u001b[1;32m      3\u001b[0m \u001b[0;32mfor\u001b[0m \u001b[0mmetric\u001b[0m \u001b[0;32min\u001b[0m \u001b[0mmodelHistories\u001b[0m\u001b[0;34m[\u001b[0m\u001b[0;36m0\u001b[0m\u001b[0;34m]\u001b[0m\u001b[0;34m.\u001b[0m\u001b[0mhistory\u001b[0m\u001b[0;34m:\u001b[0m\u001b[0;34m\u001b[0m\u001b[0;34m\u001b[0m\u001b[0m\n\u001b[1;32m      4\u001b[0m     \u001b[0mindex\u001b[0m \u001b[0;34m=\u001b[0m \u001b[0mlist\u001b[0m\u001b[0;34m(\u001b[0m\u001b[0mmodelHistories\u001b[0m\u001b[0;34m[\u001b[0m\u001b[0;36m0\u001b[0m\u001b[0;34m]\u001b[0m\u001b[0;34m.\u001b[0m\u001b[0mhistory\u001b[0m\u001b[0;34m)\u001b[0m\u001b[0;34m.\u001b[0m\u001b[0mindex\u001b[0m\u001b[0;34m(\u001b[0m\u001b[0mmetric\u001b[0m\u001b[0;34m)\u001b[0m\u001b[0;34m\u001b[0m\u001b[0;34m\u001b[0m\u001b[0m\n\u001b[0;32m----> 5\u001b[0;31m     \u001b[0max\u001b[0m \u001b[0;34m=\u001b[0m \u001b[0maxes\u001b[0m\u001b[0;34m.\u001b[0m\u001b[0mflatten\u001b[0m\u001b[0;34m(\u001b[0m\u001b[0;34m)\u001b[0m\u001b[0;34m[\u001b[0m\u001b[0mindex\u001b[0m\u001b[0;34m]\u001b[0m\u001b[0;34m\u001b[0m\u001b[0;34m\u001b[0m\u001b[0m\n\u001b[0m\u001b[1;32m      6\u001b[0m     \u001b[0mname_index\u001b[0m \u001b[0;34m=\u001b[0m \u001b[0;36m0\u001b[0m\u001b[0;34m\u001b[0m\u001b[0;34m\u001b[0m\u001b[0m\n\u001b[1;32m      7\u001b[0m     \u001b[0;32mfor\u001b[0m \u001b[0mhistory\u001b[0m \u001b[0;32min\u001b[0m \u001b[0mmodelHistories\u001b[0m\u001b[0;34m:\u001b[0m\u001b[0;34m\u001b[0m\u001b[0;34m\u001b[0m\u001b[0m\n",
      "\u001b[0;31mIndexError\u001b[0m: index 4 is out of bounds for axis 0 with size 4"
     ]
    },
    {
     "data": {
      "image/png": "[encoded data removed]",
      "text/plain": [
       "<Figure size 1080x720 with 4 Axes>"
      ]
     },
     "metadata": {
      "needs_background": "light"
     },
     "output_type": "display_data"
    }
   ],
   "source": [
    "fig, axes = plt.subplots(2, 2, figsize=(15, 10))\n",
    "fig.subplots_adjust(hspace=0.3)\n",
    "for metric in modelHistories[0].history:\n",
    "    index = list(modelHistories[0].history).index(metric)\n",
    "    ax = axes.flatten()[index]\n",
    "    name_index = 0\n",
    "    for history in modelHistories:\n",
    "        ax.plot(history.history[metric], label=modelNames[name_index])\n",
    "        name_index += 1\n",
    "    ax.set_title(metric+' over epochs', size=15)\n",
    "    ax.set_xlabel('epochs')\n",
    "    ax.set_ylabel(metric)\n",
    "    #plt.savefig(metric)\n",
    "    ax.legend()\n",
    "    "
   ]
  },
  {
   "cell_type": "code",
   "execution_count": null,
   "id": "sweet-excess",
   "metadata": {},
   "outputs": [],
   "source": [
    "N = EPOCHS\n",
    "plt.style.use(\"ggplot\")\n",
    "plt.figure()\n",
    "for history in modelHistories:\n",
    "plt.plot(np.arange(0, N), H.history[\"loss\"], label=\"train_loss\")\n",
    "plt.plot(np.arange(0, N), H.history[\"val_loss\"], label=\"val_loss\")\n",
    "plt.plot(np.arange(0, N), H.history[\"accuracy\"], label=\"train_acc\")\n",
    "plt.plot(np.arange(0, N), H.history[\"val_accuracy\"], label=\"val_acc\")\n",
    "plt.title(\"Training Loss and Accuracy\")\n",
    "plt.xlabel(\"Epoch #\")\n",
    "plt.ylabel(\"Loss/Accuracy\")\n",
    "plt.legend(loc=\"lower left\")\n",
    "#plt.savefig('loss_acc')"
   ]
  },
  {
   "cell_type": "code",
   "execution_count": null,
   "id": "published-validity",
   "metadata": {},
   "outputs": [],
   "source": [
    "N = EPOCHS\n",
    "plt.style.use(\"ggplot\")\n",
    "plt.figure()\n",
    "plt.plot(np.arange(0, N), H.history[\"f1_m\"], label=\"train_f1\")\n",
    "plt.plot(np.arange(0, N), H.history[\"val_f1_m\"], label=\"val_f1\")\n",
    "plt.title(\"F1 Score\")\n",
    "plt.xlabel(\"Epoch #\")\n",
    "plt.ylabel(\"Score\")\n",
    "plt.legend(loc=\"lower left\")\n",
    "#plt.savefig('f1')"
   ]
  },
  {
   "cell_type": "code",
   "execution_count": null,
   "id": "worldwide-petite",
   "metadata": {},
   "outputs": [],
   "source": []
  }
 ],
 "metadata": {
  "kernelspec": {
   "display_name": ".venv",
   "language": "python",
   "name": ".venv"
  },
  "language_info": {
   "codemirror_mode": {
    "name": "ipython",
    "version": 3
   },
   "file_extension": ".py",
   "mimetype": "text/x-python",
   "name": "python",
   "nbconvert_exporter": "python",
   "pygments_lexer": "ipython3",
   "version": "3.8.5"
  }
 },
 "nbformat": 4,
 "nbformat_minor": 5
}
